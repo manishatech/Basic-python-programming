{
 "cells": [
  {
   "cell_type": "code",
   "execution_count": 1,
   "id": "8a1f9064",
   "metadata": {},
   "outputs": [
    {
     "name": "stdout",
     "output_type": "stream",
     "text": [
      "Enter value in kilometers: 99\n",
      "99.00 kilometers is equal to 61.52 miles\n"
     ]
    }
   ],
   "source": [
    "#convert kilometers to miles\n",
    "kilometers = float(input(\"Enter value in kilometers: \"))\n",
    "\n",
    "\n",
    "conv_mile = 0.621371\n",
    "\n",
    "\n",
    "miles = kilometers * conv_mile\n",
    "print('%0.2f kilometers is equal to %0.2f miles' %(kilometers,miles))"
   ]
  },
  {
   "cell_type": "code",
   "execution_count": 2,
   "id": "dad774b1",
   "metadata": {},
   "outputs": [
    {
     "name": "stdout",
     "output_type": "stream",
     "text": [
      "enter degree in celsius9\n",
      "\n",
      "Equivalent Value in Fahrenheit =  48.2\n"
     ]
    }
   ],
   "source": [
    "#celsius to farheineit conversion\n",
    "cel = float(input(\"enter degree in celsius\"))\n",
    "\n",
    "fah = (cel*1.8)+32\n",
    "print(\"\\nEquivalent Value in Fahrenheit = \", fah)"
   ]
  },
  {
   "cell_type": "code",
   "execution_count": 3,
   "id": "3230a7fc",
   "metadata": {},
   "outputs": [
    {
     "name": "stdout",
     "output_type": "stream",
     "text": [
      "Enter any decimal number: 6\n",
      "Binary value: 0b110\n"
     ]
    }
   ],
   "source": [
    "#to convert decimal to binary\n",
    "\n",
    "num = int(input('Enter any decimal number: '))\n",
    "\n",
    "print('Binary value:', bin(num))"
   ]
  },
  {
   "cell_type": "code",
   "execution_count": 4,
   "id": "2327b03a",
   "metadata": {},
   "outputs": [
    {
     "name": "stdout",
     "output_type": "stream",
     "text": [
      "Enter a binary number: 1001\n",
      "The decimal value is = 9\n"
     ]
    }
   ],
   "source": [
    "#convert binary to decimal\n",
    "def BinaryDecimal(n):  \n",
    "    return int(n, 2)\n",
    " \n",
    "num = input('Enter a binary number: ')\n",
    "\n",
    "print('The decimal value is =', BinaryDecimal(num))"
   ]
  },
  {
   "cell_type": "code",
   "execution_count": 5,
   "id": "b7200fed",
   "metadata": {},
   "outputs": [
    {
     "name": "stdout",
     "output_type": "stream",
     "text": [
      "Enter any decimal number: 55\n",
      "Octal value: 0o67\n"
     ]
    }
   ],
   "source": [
    "#to convert decimal to octal\n",
    "\n",
    "num = int(input('Enter any decimal number: '))\n",
    "\n",
    "print('Octal value:', oct(num))"
   ]
  },
  {
   "cell_type": "code",
   "execution_count": 6,
   "id": "fa08de1b",
   "metadata": {},
   "outputs": [
    {
     "name": "stdout",
     "output_type": "stream",
     "text": [
      "Enter an octal number: 0o44\n",
      "The decimal value is = 36\n"
     ]
    }
   ],
   "source": [
    "#convert octal to decimal\n",
    "def OctalDecimal(n):  \n",
    "    return int(n, 8)\n",
    "\n",
    "num = input('Enter an octal number: ')\n",
    "\n",
    "print('The decimal value is =',OctalDecimal(num))"
   ]
  },
  {
   "cell_type": "code",
   "execution_count": 7,
   "id": "bf017483",
   "metadata": {},
   "outputs": [
    {
     "name": "stdout",
     "output_type": "stream",
     "text": [
      "Enter a decimal number: 34\n",
      "HexaDecimal value =  0x22\n"
     ]
    }
   ],
   "source": [
    "# to convert decimal to hexadecimal\n",
    "\n",
    "num = int(input('Enter a decimal number: '))\n",
    "\n",
    "print('HexaDecimal value = ', hex(num))\n"
   ]
  },
  {
   "cell_type": "code",
   "execution_count": 8,
   "id": "6e89e2ff",
   "metadata": {},
   "outputs": [
    {
     "name": "stdout",
     "output_type": "stream",
     "text": [
      "Enter hexadecimal number: 3eb8\n",
      "The decimal value is = 16056\n"
     ]
    }
   ],
   "source": [
    "#to convert hexadecimal to decimal\n",
    "\n",
    "def HexDecimal(n):  \n",
    "    return int(n, 16)\n",
    "    \n",
    "num = input('Enter hexadecimal number: ')\n",
    "\n",
    "print('The decimal value is =', HexDecimal(num))"
   ]
  },
  {
   "cell_type": "code",
   "execution_count": null,
   "id": "ff262c47",
   "metadata": {},
   "outputs": [],
   "source": []
  }
 ],
 "metadata": {
  "kernelspec": {
   "display_name": "Python 3",
   "language": "python",
   "name": "python3"
  },
  "language_info": {
   "codemirror_mode": {
    "name": "ipython",
    "version": 3
   },
   "file_extension": ".py",
   "mimetype": "text/x-python",
   "name": "python",
   "nbconvert_exporter": "python",
   "pygments_lexer": "ipython3",
   "version": "3.8.8"
  }
 },
 "nbformat": 4,
 "nbformat_minor": 5
}
