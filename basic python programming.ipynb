{
 "cells": [
  {
   "cell_type": "code",
   "execution_count": 5,
   "id": "f135743d",
   "metadata": {},
   "outputs": [
    {
     "name": "stdout",
     "output_type": "stream",
     "text": [
      "enter the number-5\n",
      "negative number\n"
     ]
    }
   ],
   "source": [
    "#check a number is positive,negative or zero\n",
    "num=int(input(\"enter the number\"))\n",
    "\n",
    "if num>0:\n",
    "    print(\"positive number\")\n",
    "elif num<0:\n",
    "    print(\"negative number\")\n",
    "else:\n",
    "    print(\"the number is zero\")"
   ]
  },
  {
   "cell_type": "code",
   "execution_count": 7,
   "id": "bc15bcec",
   "metadata": {},
   "outputs": [
    {
     "name": "stdout",
     "output_type": "stream",
     "text": [
      "enter number55\n",
      "odd number\n"
     ]
    }
   ],
   "source": [
    "#odd or even number check\n",
    "num=int(input(\"enter number\"))\n",
    "\n",
    "if num%2==0:\n",
    "    print(\"even number\")\n",
    "else:\n",
    "    print(\"odd number\")"
   ]
  },
  {
   "cell_type": "code",
   "execution_count": 10,
   "id": "b6a3cfdc",
   "metadata": {},
   "outputs": [
    {
     "name": "stdout",
     "output_type": "stream",
     "text": [
      "enter year2004\n",
      "it is leap year\n"
     ]
    }
   ],
   "source": [
    "#to check leap year\n",
    "year=int(input(\"enter year\"))\n",
    "\n",
    "if(year%400==0 or year%4==0 or year%100==0):\n",
    "    print(\"it is leap year\")\n",
    "else:\n",
    "    print(\"it is not leap year\")"
   ]
  },
  {
   "cell_type": "code",
   "execution_count": 11,
   "id": "9a63018b",
   "metadata": {},
   "outputs": [
    {
     "name": "stdout",
     "output_type": "stream",
     "text": [
      "enter 1st number:7\n",
      "enter 2nd number:83\n",
      "enter 3rd number:54\n",
      "The largest number =  83\n"
     ]
    }
   ],
   "source": [
    "#largest among 3 numbers\n",
    "num1 = int(input(\"enter 1st number:\"))\n",
    "num2 = int(input(\"enter 2nd number:\"))\n",
    "num3 = int(input(\"enter 3rd number:\"))\n",
    "\n",
    "if (num1 >= num2) and (num1 >= num3):\n",
    "    largest = num1\n",
    "elif (num2 >= num1) and (num2 >= num3):\n",
    "    largest = num2\n",
    "else:\n",
    "    largest = num3\n",
    "\n",
    "print('The largest number = ', largest)"
   ]
  },
  {
   "cell_type": "code",
   "execution_count": 1,
   "id": "de544c9e",
   "metadata": {},
   "outputs": [
    {
     "name": "stdout",
     "output_type": "stream",
     "text": [
      "Enter First Number: 34\n",
      "Enter Second Number: 22\n",
      "The GCD of 34 and 22 is 2\n"
     ]
    }
   ],
   "source": [
    "#to find GCD of two numbers\n",
    "\n",
    "x = int(input('Enter First Number: '))\n",
    "y = int(input('Enter Second Number: '))\n",
    "\n",
    "if x > y:\n",
    "    smaller = y\n",
    "else:\n",
    "    smaller = x\n",
    "    \n",
    "for i in range (1,smaller+1):\n",
    "    if((x % i == 0) and (y % i == 0)):\n",
    "        gcd = i\n",
    "\n",
    "print('The GCD of',x,'and',y,'is',gcd)"
   ]
  },
  {
   "cell_type": "code",
   "execution_count": 18,
   "id": "6520755b",
   "metadata": {},
   "outputs": [
    {
     "name": "stdout",
     "output_type": "stream",
     "text": [
      "Enter a number: 78\n",
      "78 is not a prime number\n"
     ]
    }
   ],
   "source": [
    "# Program to check if a number is prime or not\n",
    "num = int(input(\"Enter a number: \"))\n",
    "\n",
    "if num > 1:\n",
    "   # check for factors\n",
    "   for i in range(2,num):\n",
    "        if (num % i) == 0:\n",
    "            print(num,\"is not a prime number\")\n",
    "            break\n",
    "   else:\n",
    "       print(num,\"is a prime number\")\n",
    "       \n",
    "else:\n",
    "    print(num,\"is not a prime number\")"
   ]
  },
  {
   "cell_type": "code",
   "execution_count": 12,
   "id": "4bd8f1cb",
   "metadata": {},
   "outputs": [
    {
     "name": "stdout",
     "output_type": "stream",
     "text": [
      "Enter number of terms: 7\n",
      "The Fibonacci series: \n",
      "0 1 1 2 3 5 8 "
     ]
    }
   ],
   "source": [
    "#to print fibonacci series up to n-th term\n",
    "\n",
    "num = int(input('Enter number of terms: '))\n",
    "a, b = 0, 1\n",
    "i = 0\n",
    "    \n",
    "if num <= 0:\n",
    "    print('Please enter a positive integer.')\n",
    "\n",
    "elif num == 1:\n",
    "    print('The Fibonacci series: ')\n",
    "    print(a)\n",
    "\n",
    "else:\n",
    "    print('The Fibonacci series: ')\n",
    "    while i < num:\n",
    "        print(a, end=' ')\n",
    "        c = a + b\n",
    "        a = b\n",
    "        b = c\n",
    "        i = i+1"
   ]
  },
  {
   "cell_type": "code",
   "execution_count": 10,
   "id": "b1614079",
   "metadata": {},
   "outputs": [
    {
     "name": "stdout",
     "output_type": "stream",
     "text": [
      "Enter number: 6\n",
      "The factorial of 6 is 720\n"
     ]
    }
   ],
   "source": [
    "# to find the factorial of a number\n",
    "num = int(input(\"Enter number: \"))\n",
    "\n",
    "if num < 0:\n",
    "    print('Factorial does not exist for negative numbers')\n",
    "elif num == 0:\n",
    "    print('The factorial of 0 is 1')\n",
    "else:\n",
    "    fact = 1\n",
    "    for i in range(1,num + 1):\n",
    "        fact = fact*i\n",
    "    print('The factorial of',num,'is',fact)"
   ]
  },
  {
   "cell_type": "code",
   "execution_count": 2,
   "id": "b578c9cd",
   "metadata": {},
   "outputs": [
    {
     "name": "stdout",
     "output_type": "stream",
     "text": [
      "Enter number: 12\n",
      "12 * 1 = 12\n",
      "12 * 2 = 24\n",
      "12 * 3 = 36\n",
      "12 * 4 = 48\n",
      "12 * 5 = 60\n",
      "12 * 6 = 72\n",
      "12 * 7 = 84\n",
      "12 * 8 = 96\n",
      "12 * 9 = 108\n",
      "12 * 10 = 120\n"
     ]
    }
   ],
   "source": [
    "#multiplication table\n",
    "num=int(input(\"Enter number: \"))\n",
    "\n",
    "for i in range(1,11):\n",
    "    m=num*i\n",
    "    print(\"{0} * {1} = {2}\".format(num,i,m))"
   ]
  },
  {
   "cell_type": "code",
   "execution_count": 5,
   "id": "04504980",
   "metadata": {},
   "outputs": [
    {
     "name": "stdout",
     "output_type": "stream",
     "text": [
      "Enter the character: M\n",
      "The ASCII value of 'M' is 77\n"
     ]
    }
   ],
   "source": [
    "# to find the ASCII value of the given character\n",
    "c = input(\"Enter the character: \")\n",
    "value=ord(c)\n",
    "print(\"The ASCII value of '\" + c + \"' is\", value)"
   ]
  }
 ],
 "metadata": {
  "kernelspec": {
   "display_name": "Python 3",
   "language": "python",
   "name": "python3"
  },
  "language_info": {
   "codemirror_mode": {
    "name": "ipython",
    "version": 3
   },
   "file_extension": ".py",
   "mimetype": "text/x-python",
   "name": "python",
   "nbconvert_exporter": "python",
   "pygments_lexer": "ipython3",
   "version": "3.8.8"
  }
 },
 "nbformat": 4,
 "nbformat_minor": 5
}
